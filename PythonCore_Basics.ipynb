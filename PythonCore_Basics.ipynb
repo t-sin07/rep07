{
 "cells": [
  {
   "cell_type": "code",
   "execution_count": null,
   "metadata": {},
   "outputs": [],
   "source": [
    "tar=4\n",
    "tar"
   ]
  },
  {
   "cell_type": "code",
   "execution_count": null,
   "metadata": {},
   "outputs": [],
   "source": [
    "type(tar)"
   ]
  },
  {
   "cell_type": "code",
   "execution_count": null,
   "metadata": {},
   "outputs": [],
   "source": [
    "t=\"tarun\""
   ]
  },
  {
   "cell_type": "code",
   "execution_count": null,
   "metadata": {},
   "outputs": [],
   "source": [
    "t.capitalize()"
   ]
  },
  {
   "cell_type": "code",
   "execution_count": null,
   "metadata": {},
   "outputs": [],
   "source": [
    "l=[4,6,7,t]"
   ]
  },
  {
   "cell_type": "code",
   "execution_count": null,
   "metadata": {},
   "outputs": [],
   "source": [
    "l"
   ]
  },
  {
   "cell_type": "code",
   "execution_count": null,
   "metadata": {},
   "outputs": [],
   "source": [
    "\"\"\" This is \n",
    "a multi line comment\"\"\""
   ]
  },
  {
   "cell_type": "code",
   "execution_count": null,
   "metadata": {},
   "outputs": [],
   "source": [
    "k='ineuron'"
   ]
  },
  {
   "cell_type": "code",
   "execution_count": null,
   "metadata": {},
   "outputs": [],
   "source": [
    "k[2:5:1]"
   ]
  },
  {
   "cell_type": "code",
   "execution_count": null,
   "metadata": {},
   "outputs": [],
   "source": [
    "k[-2:-5:-1]"
   ]
  },
  {
   "cell_type": "code",
   "execution_count": null,
   "metadata": {},
   "outputs": [],
   "source": [
    "k[: :-1]"
   ]
  },
  {
   "cell_type": "code",
   "execution_count": null,
   "metadata": {},
   "outputs": [],
   "source": [
    "c=[]\n",
    "s=list10()"
   ]
  },
  {
   "cell_type": "code",
   "execution_count": null,
   "metadata": {},
   "outputs": [],
   "source": [
    "type(c)"
   ]
  },
  {
   "cell_type": "code",
   "execution_count": null,
   "metadata": {},
   "outputs": [],
   "source": [
    "type(s)"
   ]
  },
  {
   "cell_type": "code",
   "execution_count": null,
   "metadata": {},
   "outputs": [],
   "source": [
    "#Generator Function \n",
    "\n",
    "range(10)"
   ]
  },
  {
   "cell_type": "code",
   "execution_count": null,
   "metadata": {},
   "outputs": [],
   "source": [
    "list(range(10,23))"
   ]
  },
  {
   "cell_type": "code",
   "execution_count": null,
   "metadata": {},
   "outputs": [],
   "source": [
    "list(range(10,23,3)) # range funcation with jump"
   ]
  },
  {
   "cell_type": "code",
   "execution_count": null,
   "metadata": {},
   "outputs": [],
   "source": [
    "list(range(10,23.7)) #No Float is allowed "
   ]
  },
  {
   "cell_type": "code",
   "execution_count": null,
   "metadata": {},
   "outputs": [],
   "source": [
    "l=list(range(10,23))\n",
    "for i in l:\n",
    "    print(i)"
   ]
  },
  {
   "cell_type": "code",
   "execution_count": null,
   "metadata": {},
   "outputs": [],
   "source": [
    "l=list(range(10,23))\n",
    "for i in l:\n",
    "    i=i+1\n",
    "    print(i)"
   ]
  },
  {
   "cell_type": "code",
   "execution_count": null,
   "metadata": {},
   "outputs": [],
   "source": [
    "l=list(range(10,23))\n",
    "m=[]\n",
    "for i in l:\n",
    "    i=i+1\n",
    "    m.append(i)\n",
    "    print(m)"
   ]
  },
  {
   "cell_type": "code",
   "execution_count": null,
   "metadata": {},
   "outputs": [],
   "source": [
    "ll=list(\"*\"*10)\n",
    "m=[]\n",
    "for i in ll:\n",
    "    i=i*1\n",
    "    m.append(i)\n",
    "    print(m)"
   ]
  },
  {
   "cell_type": "code",
   "execution_count": null,
   "metadata": {},
   "outputs": [],
   "source": [
    "l=list(range(10,23))\n",
    "l"
   ]
  },
  {
   "cell_type": "code",
   "execution_count": null,
   "metadata": {},
   "outputs": [],
   "source": [
    "l[1]=100\n",
    "l\n",
    "#did not shifted the index instead it replaced. lost 11 here."
   ]
  },
  {
   "cell_type": "code",
   "execution_count": null,
   "metadata": {},
   "outputs": [],
   "source": [
    "l=list(range(10,23))\n",
    "m=[]\n",
    "len(l)\n",
    "for i in range(len(l)):\n",
    "    m.append(i)\n",
    "m\n",
    "\n",
    "#Using len instead of l"
   ]
  },
  {
   "cell_type": "code",
   "execution_count": null,
   "metadata": {},
   "outputs": [],
   "source": [
    "l=list(range(10,23))\n",
    "m=[]\n",
    "len(l)\n",
    "for i in range(len(l)):\n",
    "    if i>=10:\n",
    "        m.append(i+3)\n",
    "    else:\n",
    "        m.append(\"if nhi chla to else chlega na\")\n",
    "m"
   ]
  },
  {
   "cell_type": "code",
   "execution_count": null,
   "metadata": {},
   "outputs": [],
   "source": [
    "l=list(range(10,23))\n",
    "m=[]\n",
    "len(l)\n",
    "for i in range(len(l)):\n",
    "    if i>=10:\n",
    "        break\n",
    "        m.append(i+3)\n",
    "    else:\n",
    "        m.append(\"if nhi chla to else chlega na\")\n",
    "m"
   ]
  },
  {
   "cell_type": "code",
   "execution_count": null,
   "metadata": {},
   "outputs": [],
   "source": [
    "l=list(range(10,23))\n",
    "m=[]\n",
    "len(l)\n",
    "for i in range(len(l)):\n",
    "    if i>=10:\n",
    "        m.append(i+3)\n",
    "    \n",
    "    else:\n",
    "        m.append(\"if nhi chla to else chlega na\")\n",
    "m"
   ]
  },
  {
   "cell_type": "code",
   "execution_count": null,
   "metadata": {},
   "outputs": [],
   "source": [
    "for i in \"tarun\":\n",
    "    if i==\"u\":\n",
    "        continue\n",
    "    print(i)\n",
    "#continue immediately pass control to the loop so it will skip printing u and will print n "
   ]
  },
  {
   "cell_type": "code",
   "execution_count": null,
   "metadata": {},
   "outputs": [],
   "source": [
    "#Python Core VS NUMPY\n",
    "list67=[2,4,5,6,7]\n",
    "list67*2\n",
    "\n",
    "#pandas will multiply"
   ]
  },
  {
   "cell_type": "markdown",
   "metadata": {},
   "source": [
    "# List VS Tuple \n"
   ]
  },
  {
   "cell_type": "code",
   "execution_count": null,
   "metadata": {},
   "outputs": [],
   "source": [
    "l=[4,5,6,\"tarun\"]  #list alwasy have [], Tuple have () #Mutable "
   ]
  },
  {
   "cell_type": "code",
   "execution_count": null,
   "metadata": {},
   "outputs": [],
   "source": [
    "t=(4,5,6,7,8, \"tarun\")\n",
    "type(t)\n",
    "t[3]=\"this\"   #Mark this error this is imp.  ##Immutable"
   ]
  },
  {
   "cell_type": "markdown",
   "metadata": {},
   "source": [
    "List support Iteration in for loop. Tuple Don't"
   ]
  },
  {
   "cell_type": "code",
   "execution_count": null,
   "metadata": {},
   "outputs": [],
   "source": [
    "s=\"tarun\"\n",
    "s[0]=\"No\"\n",
    "s    # Strings are Immutabel "
   ]
  },
  {
   "cell_type": "code",
   "execution_count": null,
   "metadata": {},
   "outputs": [],
   "source": [
    "s= set([1,2,3,4,5,6,1,2,3,4,5,6,7,8,1,2,4,5,6,7,8,9])\n",
    "s   # if you just want unique data use this. #This is not a sorted output."
   ]
  },
  {
   "cell_type": "code",
   "execution_count": null,
   "metadata": {},
   "outputs": [],
   "source": [
    "str=\"tarun\"\n",
    "str"
   ]
  },
  {
   "cell_type": "code",
   "execution_count": null,
   "metadata": {},
   "outputs": [],
   "source": [
    "next(str) #'str' object is not an iterator\n"
   ]
  },
  {
   "cell_type": "code",
   "execution_count": null,
   "metadata": {},
   "outputs": [],
   "source": [
    "iter(str) #String obj is an Iterable as it return an Itertator obj when used with iter()"
   ]
  },
  {
   "cell_type": "code",
   "execution_count": null,
   "metadata": {},
   "outputs": [],
   "source": [
    "list1=[1,23,4,\"tarun\"]\n",
    "next(list1)  # list' object is not an iterator"
   ]
  },
  {
   "cell_type": "code",
   "execution_count": null,
   "metadata": {},
   "outputs": [],
   "source": [
    "iter(list1) #lIST OBJ IS AN iterable"
   ]
  },
  {
   "cell_type": "code",
   "execution_count": 1,
   "metadata": {},
   "outputs": [],
   "source": [
    "def square(n):\n",
    "    return n*n"
   ]
  },
  {
   "cell_type": "code",
   "execution_count": 2,
   "metadata": {},
   "outputs": [],
   "source": [
    "lst= [1,2,3,4,5,6,7,8]"
   ]
  },
  {
   "cell_type": "markdown",
   "metadata": {},
   "source": [
    "# # Map, Reduce, Filter"
   ]
  },
  {
   "cell_type": "code",
   "execution_count": 3,
   "metadata": {},
   "outputs": [
    {
     "data": {
      "text/plain": [
       "[1, 4, 9, 16, 25, 36, 49, 64]"
      ]
     },
     "execution_count": 3,
     "metadata": {},
     "output_type": "execute_result"
    }
   ],
   "source": [
    "#Map Function \n",
    "\n",
    "list((map(square,lst)))\n"
   ]
  },
  {
   "cell_type": "code",
   "execution_count": 5,
   "metadata": {},
   "outputs": [
    {
     "name": "stdout",
     "output_type": "stream",
     "text": [
      "1\n",
      "4\n",
      "9\n",
      "16\n",
      "25\n",
      "36\n",
      "49\n",
      "64\n"
     ]
    }
   ],
   "source": [
    "for i in map(square,lst):\n",
    "    print(i)"
   ]
  },
  {
   "cell_type": "code",
   "execution_count": 6,
   "metadata": {},
   "outputs": [
    {
     "data": {
      "text/plain": [
       "[1, 4, 9, 16, 25, 36, 49, 64]"
      ]
     },
     "execution_count": 6,
     "metadata": {},
     "output_type": "execute_result"
    }
   ],
   "source": [
    "list((map(lambda x: x*x,lst)))\n"
   ]
  },
  {
   "cell_type": "markdown",
   "metadata": {},
   "source": [
    "# OOPS"
   ]
  },
  {
   "cell_type": "code",
   "execution_count": 154,
   "metadata": {},
   "outputs": [],
   "source": [
    "class Employee:\n",
    "    raise_amount=1.04                  #Class Variable\n",
    "    def __init__(self,first,last,pay): #can't define a class without this (Constructor)\n",
    "        self.first=first            #This is instance variable (unique for this instance )\n",
    "        self.last=last\n",
    "        self.pay=pay\n",
    "        self.email= first+ '.' + last +'@company.com'\n",
    "    \n",
    "    def fullname(self):  #every method take an instance that is self.\n",
    "        return '{} {}'.format(self.first,self.last)\n",
    "    \n",
    "    def apply_raise(self):\n",
    "        self.pay=int(self.pay *1.04)\n",
    "    \n",
    "    @classmethod\n",
    "    def set_raise_amt(cls,amount):\n",
    "        cls.raise_amount=amount\n",
    "    \n",
    "    @staticmethod\n",
    "    def is_workday(x):\n",
    "        pass\n",
    "    \n",
    "'''When to use Class Vs Static Method ?\n",
    "If you're not using Self in the method itself then you might want to use Static method \n",
    "in that place.'''\n",
    "    \n",
    "    \n",
    "class Developer(Employee):\n",
    "    raise_amt=1.10 #(this will not change the raise in Parent class)\n",
    "    \n",
    "    def __init__(self,first,last,pay,prog_lang): #Adding extra feature to this class\n",
    "        super().__init__(first,last,pay)         #Using parent class handling those argument\n",
    "        self.prog_lang=prog_lang  #handling the extra added feature.\n",
    "    \n",
    "        \n",
    "    "
   ]
  },
  {
   "cell_type": "code",
   "execution_count": 156,
   "metadata": {},
   "outputs": [
    {
     "name": "stdout",
     "output_type": "stream",
     "text": [
      "tarun.singh@company.com\n"
     ]
    },
    {
     "ename": "TypeError",
     "evalue": "__init__() missing 4 required positional arguments: 'first', 'last', 'pay', and 'prog_lang'",
     "output_type": "error",
     "traceback": [
      "\u001b[1;31m---------------------------------------------------------------------------\u001b[0m",
      "\u001b[1;31mTypeError\u001b[0m                                 Traceback (most recent call last)",
      "\u001b[1;32m<ipython-input-156-51d0c51bc99d>\u001b[0m in \u001b[0;36m<module>\u001b[1;34m\u001b[0m\n\u001b[0;32m      6\u001b[0m \u001b[0mEmployee\u001b[0m\u001b[1;33m.\u001b[0m\u001b[0mset_raise_amt\u001b[0m\u001b[1;33m(\u001b[0m\u001b[1;36m1.06\u001b[0m\u001b[1;33m)\u001b[0m \u001b[1;31m#using class method.\u001b[0m\u001b[1;33m\u001b[0m\u001b[1;33m\u001b[0m\u001b[0m\n\u001b[0;32m      7\u001b[0m \u001b[1;33m\u001b[0m\u001b[0m\n\u001b[1;32m----> 8\u001b[1;33m \u001b[0md\u001b[0m\u001b[1;33m=\u001b[0m\u001b[0mDeveloper\u001b[0m\u001b[1;33m(\u001b[0m\u001b[1;33m)\u001b[0m\u001b[1;33m\u001b[0m\u001b[1;33m\u001b[0m\u001b[0m\n\u001b[0m",
      "\u001b[1;31mTypeError\u001b[0m: __init__() missing 4 required positional arguments: 'first', 'last', 'pay', and 'prog_lang'"
     ]
    }
   ],
   "source": [
    "emp_1= Employee('tarun','singh', 5000)\n",
    "emp_2= Employee('test','user',6000)\n",
    "\n",
    "\n",
    "print(emp_1.email)\n",
    "Employee.set_raise_amt(1.06) #using class method.\n",
    "\n",
    "d=Developer()"
   ]
  },
  {
   "cell_type": "code",
   "execution_count": 118,
   "metadata": {},
   "outputs": [
    {
     "name": "stdout",
     "output_type": "stream",
     "text": [
      "tarun singh\n"
     ]
    }
   ],
   "source": [
    "print(emp_1.fullname())"
   ]
  },
  {
   "cell_type": "code",
   "execution_count": 119,
   "metadata": {},
   "outputs": [
    {
     "data": {
      "text/plain": [
       "1.06"
      ]
     },
     "execution_count": 119,
     "metadata": {},
     "output_type": "execute_result"
    }
   ],
   "source": [
    "emp_1.raise_amount\n"
   ]
  },
  {
   "cell_type": "code",
   "execution_count": 126,
   "metadata": {},
   "outputs": [],
   "source": [
    "##Practice\n",
    "\n",
    "class person:\n",
    "    raise_amt=1.06  #class variable \n",
    "    def __init__(self,fname,lname,yob):\n",
    "        self.fname=fname\n",
    "        self.lname=lname\n",
    "        self.yob=yob\n",
    "        \n",
    "    def test(self,n,m):\n",
    "        return n+m+self.fname\n",
    "    \n",
    "    def raise_apply(self):\n",
    "        self.pay=int(self.pay * Employee.raise_amt) #Using class variable\n",
    "    \n",
    "    \n",
    "    def name_check(self,x):\n",
    "        if x==self.fname:\n",
    "            return True\n",
    "        else:\n",
    "            return False\n",
    "    def __str__(self):             #print(p) will give this now\n",
    "        return '{} {}'.format(self.fname,self.lname)\n",
    "    \n",
    "    \n",
    "    "
   ]
  },
  {
   "cell_type": "code",
   "execution_count": 121,
   "metadata": {},
   "outputs": [
    {
     "data": {
      "text/plain": [
       "'tarun567wow'"
      ]
     },
     "execution_count": 121,
     "metadata": {},
     "output_type": "execute_result"
    }
   ],
   "source": [
    "p=person('tarun','singh',93)\n",
    "s=person('test1','test2',90)\n",
    "q=person(\"wow\",\"now\",26)\n",
    "q.test('tarun','567')\n"
   ]
  },
  {
   "cell_type": "code",
   "execution_count": 122,
   "metadata": {},
   "outputs": [
    {
     "data": {
      "text/plain": [
       "True"
      ]
     },
     "execution_count": 122,
     "metadata": {},
     "output_type": "execute_result"
    }
   ],
   "source": [
    "q.name_check('wow')"
   ]
  },
  {
   "cell_type": "code",
   "execution_count": 123,
   "metadata": {},
   "outputs": [
    {
     "data": {
      "text/plain": [
       "'taruntest1'"
      ]
     },
     "execution_count": 123,
     "metadata": {},
     "output_type": "execute_result"
    }
   ],
   "source": [
    "p.fname + s.fname"
   ]
  },
  {
   "cell_type": "markdown",
   "metadata": {},
   "source": [
    "# Method Overloading"
   ]
  },
  {
   "cell_type": "code",
   "execution_count": 161,
   "metadata": {},
   "outputs": [],
   "source": [
    "class person:\n",
    "    def __init__(self,a,b,c):\n",
    "        self.a=a\n",
    "        self.c=c\n",
    "        self.b=b\n",
    "    def __str__(self):\n",
    "        return \"Parent Class Message\""
   ]
  },
  {
   "cell_type": "code",
   "execution_count": 162,
   "metadata": {},
   "outputs": [],
   "source": [
    "p= person(3,4,5)"
   ]
  },
  {
   "cell_type": "code",
   "execution_count": 163,
   "metadata": {},
   "outputs": [
    {
     "name": "stdout",
     "output_type": "stream",
     "text": [
      "Parent Class Message\n"
     ]
    }
   ],
   "source": [
    "print(p)"
   ]
  },
  {
   "cell_type": "code",
   "execution_count": 139,
   "metadata": {},
   "outputs": [
    {
     "data": {
      "text/plain": [
       "<__main__.person at 0x22ea0589198>"
      ]
     },
     "execution_count": 139,
     "metadata": {},
     "output_type": "execute_result"
    }
   ],
   "source": [
    "p"
   ]
  },
  {
   "cell_type": "code",
   "execution_count": 170,
   "metadata": {},
   "outputs": [],
   "source": [
    "#Method Overriding\n",
    "class student(person):\n",
    "    def __init__(self,stid,a,b,c): # Student class init\n",
    "        super().__init__(a,b,c) #Calling init of Parent class Using Super#Init of student class adding extra features\n",
    "        self.stid=stid\n",
    "#We will try to override str method of parent class\n",
    "    def __str__(self):\n",
    "        return super(student,self).__str__() + \"this is from child class\""
   ]
  },
  {
   "cell_type": "code",
   "execution_count": 172,
   "metadata": {},
   "outputs": [
    {
     "data": {
      "text/plain": [
       "<__main__.student at 0x22ea01847f0>"
      ]
     },
     "execution_count": 172,
     "metadata": {},
     "output_type": "execute_result"
    }
   ],
   "source": [
    "s= student(3,4,5,6)\n",
    "s"
   ]
  },
  {
   "cell_type": "code",
   "execution_count": 173,
   "metadata": {},
   "outputs": [
    {
     "name": "stdout",
     "output_type": "stream",
     "text": [
      "Parent Class Messagethis is from child class\n"
     ]
    }
   ],
   "source": [
    "print(s\n",
    "     )"
   ]
  },
  {
   "cell_type": "markdown",
   "metadata": {},
   "source": [
    "# Encapsulation- Hiding the implementation "
   ]
  },
  {
   "cell_type": "code",
   "execution_count": 187,
   "metadata": {},
   "outputs": [],
   "source": [
    "class tyre:\n",
    "    def __init__(self,branch,bias,opt):\n",
    "        self.branch = branch\n",
    "        self.bias = bias\n",
    "        self.opt= opt\n",
    "    \n",
    "    def __str__(self):\n",
    "        return (\"Tyres: \\n \\tBranch: \" + self.branch +\n",
    "               \"\\n \\tBelted-bias: \" + str(self.bias) + \n",
    "               \"\\n \\tOptimal pressure: \" + str(self.opt))\n",
    "class engine:\n",
    "    def __init__(self, fuel_type, noise_level):\n",
    "        self.fuel_type = fuel_type\n",
    "        self.noise_level = noise_level\n",
    "        \n",
    "    def __str__(self):\n",
    "        return (\"Engine: \\n \\tFuel type: \" + self.fuel_type +\n",
    "                \"\\n \\tNoise level:\" + str(self.noise_level))\n",
    "class Body:\n",
    "    def __init__(self, size):\n",
    "        self.size = size\n",
    "        \n",
    "    def __str__(self):\n",
    "        return \"Body:\\n \\tSize: \" + self.size\n",
    "        \n",
    "class Car:\n",
    "    def __init__(self, ti, ei, bi):  #notice the difference here\n",
    "        self.ti = ti\n",
    "        self.ei = ei\n",
    "        self.bi = bi\n",
    "        \n",
    "    def __str__(self):\n",
    "        return str(self.ti) + \"\\n\" + str(self.ei) + \"\\n\" + str(self.ei)"
   ]
  },
  {
   "cell_type": "code",
   "execution_count": 188,
   "metadata": {},
   "outputs": [
    {
     "name": "stdout",
     "output_type": "stream",
     "text": [
      "Tyres: \n",
      " \tBranch: Pirelli\n",
      " \tBelted-bias: yes\n",
      " \tOptimal pressure: 2.0\n",
      "Engine: \n",
      " \tFuel type: Diesel\n",
      " \tNoise level:3\n",
      "Engine: \n",
      " \tFuel type: Diesel\n",
      " \tNoise level:3\n"
     ]
    }
   ],
   "source": [
    "t = tyre('Pirelli', 'yes', 2.0) #obj of tyre class\n",
    "e = engine('Diesel', 3)         #obj of engine class\n",
    "b = Body('Medium')              #obj of body class\n",
    "c = Car(t, e, b)    #using other class obj as a variable for Car Class- COMPOSITION\n",
    "print(c)"
   ]
  },
  {
   "cell_type": "markdown",
   "metadata": {},
   "source": [
    "\n",
    "# Exception Handling "
   ]
  },
  {
   "cell_type": "code",
   "execution_count": 189,
   "metadata": {},
   "outputs": [],
   "source": [
    "##Try Except always take care RUNTIME ERROR \n",
    "try:\n",
    "    #Code that can throw error\n",
    "    pass\n",
    "except Exception:\n",
    "    #Print('Sorry this file does not exist')\n",
    "    pass\n",
    "''' \n",
    "else: #execute the code \n",
    "    pass\n",
    "finally:\n",
    "    pass\n",
    "'''"
   ]
  },
  {
   "cell_type": "code",
   "execution_count": 196,
   "metadata": {},
   "outputs": [
    {
     "name": "stdout",
     "output_type": "stream",
     "text": [
      "this code has failed you :Die\n"
     ]
    }
   ],
   "source": [
    "try:\n",
    "    f=open('xyz.txt','r')\n",
    "    f.write(\"asdfdsfdsf\")\n",
    "    print(\"code is working\")\n",
    "except:\n",
    "    print(\"this code has failed you :Die\")"
   ]
  },
  {
   "cell_type": "code",
   "execution_count": 197,
   "metadata": {},
   "outputs": [
    {
     "name": "stdout",
     "output_type": "stream",
     "text": [
      "0\n",
      "division by zero\n",
      "This is the line at the end \n"
     ]
    }
   ],
   "source": [
    "try:\n",
    "    a=int(input())\n",
    "    b=7/a\n",
    "    print(b)\n",
    "except Exception as e:\n",
    "    print(e)\n",
    "print(\"This is the line at the end \")"
   ]
  },
  {
   "cell_type": "code",
   "execution_count": 201,
   "metadata": {},
   "outputs": [
    {
     "name": "stdout",
     "output_type": "stream",
     "text": [
      "8\n",
      "This code is okay\n",
      "code has passed try catch and you can go now\n",
      "dekh bhai hm to chl k rhege tu kuch b kr le \n"
     ]
    }
   ],
   "source": [
    "try:\n",
    "    a=int(input())\n",
    "    b=9/a\n",
    "    print(\"This code is okay\")\n",
    "except Exception as e:\n",
    "    print(\"Thete is some issue\")\n",
    "else:\n",
    "    print(\"code has passed try catch and you can go now\")\n",
    "finally:\n",
    "    print(\"dekh bhai hm to chl k rhege tu kuch b kr le \")"
   ]
  },
  {
   "cell_type": "code",
   "execution_count": null,
   "metadata": {},
   "outputs": [],
   "source": []
  }
 ],
 "metadata": {
  "kernelspec": {
   "display_name": "Python 3",
   "language": "python",
   "name": "python3"
  },
  "language_info": {
   "codemirror_mode": {
    "name": "ipython",
    "version": 3
   },
   "file_extension": ".py",
   "mimetype": "text/x-python",
   "name": "python",
   "nbconvert_exporter": "python",
   "pygments_lexer": "ipython3",
   "version": "3.7.1"
  }
 },
 "nbformat": 4,
 "nbformat_minor": 2
}
